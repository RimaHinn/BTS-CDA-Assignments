{
 "cells": [
  {
   "cell_type": "markdown",
   "metadata": {
    "id": "T_U6YCp9QD33"
   },
   "source": [
    "\n",
    "![BTS](https://github.com/vfp1/bts-dsf-2020/raw/main/Logo-BTS.jpg)\n",
    "\n",
    "# Session 3: Logistic Regression EXERCISE\n",
    "\n",
    "### Victor F. Pajuelo Madrigal <victor.pajuelo@bts.tech> - Classical Data Analysis (2020-12-21)\n",
    "\n",
    "Open this notebook in Google Colaboratory: [![Open in Colab](https://colab.research.google.com/assets/colab-badge.svg)](https://colab.research.google.com/github/vfp1/bts-cda-2020/blob/main/Session_3/Session_3_Regularization_and_Poly_regression_EXERCISE.ipynb)\n",
    "\n",
    "**Resources:**\n",
    "* Auréliene Géron, Hands On ML with SKlearn, Keras and TF"
   ]
  },
  {
   "cell_type": "markdown",
   "metadata": {
    "id": "47cNdF6xP5eF"
   },
   "source": [
    "# Regression with regularization"
   ]
  },
  {
   "cell_type": "markdown",
   "metadata": {
    "id": "I-2OcibZP5eH"
   },
   "source": [
    "#### We will using the Boston Housing Dataset available in sklearn and we will extend it with  5 additional features of random noise to test each algorithm’s ability to filter out irrelevant information:\n",
    "\n",
    "- **Examine the results of applying Linear Regression, Lasso Regression, Ridge Regression and Elastic Net on the features scores**\n",
    "- **Try to modify the hyperparameters lambda and describe how it affects the parmeter scores**\n",
    "\n",
    "This is the very same exercise that we did in class, try to go in depth into the tradeoffs of lambda (alpha) and others"
   ]
  },
  {
   "cell_type": "markdown",
   "metadata": {
    "id": "oGLVXZSyP5eH"
   },
   "source": [
    "### Import libraries and dataset from sklearn"
   ]
  },
  {
   "cell_type": "code",
   "execution_count": 56,
   "metadata": {
    "id": "YfgiMb3fP5eI",
    "outputId": "fc67f653-cff5-420b-bf56-3d63a2df7b25"
   },
   "outputs": [
    {
     "data": {
      "text/html": [
       "<div>\n",
       "<style scoped>\n",
       "    .dataframe tbody tr th:only-of-type {\n",
       "        vertical-align: middle;\n",
       "    }\n",
       "\n",
       "    .dataframe tbody tr th {\n",
       "        vertical-align: top;\n",
       "    }\n",
       "\n",
       "    .dataframe thead th {\n",
       "        text-align: right;\n",
       "    }\n",
       "</style>\n",
       "<table border=\"1\" class=\"dataframe\">\n",
       "  <thead>\n",
       "    <tr style=\"text-align: right;\">\n",
       "      <th></th>\n",
       "      <th>CRIM</th>\n",
       "      <th>ZN</th>\n",
       "      <th>INDUS</th>\n",
       "      <th>CHAS</th>\n",
       "      <th>NOX</th>\n",
       "      <th>RM</th>\n",
       "      <th>AGE</th>\n",
       "      <th>DIS</th>\n",
       "      <th>RAD</th>\n",
       "      <th>TAX</th>\n",
       "      <th>PTRATIO</th>\n",
       "      <th>B</th>\n",
       "      <th>LSTAT</th>\n",
       "    </tr>\n",
       "  </thead>\n",
       "  <tbody>\n",
       "    <tr>\n",
       "      <th>0</th>\n",
       "      <td>0.00632</td>\n",
       "      <td>18.0</td>\n",
       "      <td>2.31</td>\n",
       "      <td>0.0</td>\n",
       "      <td>0.538</td>\n",
       "      <td>6.575</td>\n",
       "      <td>65.2</td>\n",
       "      <td>4.0900</td>\n",
       "      <td>1.0</td>\n",
       "      <td>296.0</td>\n",
       "      <td>15.3</td>\n",
       "      <td>396.90</td>\n",
       "      <td>4.98</td>\n",
       "    </tr>\n",
       "    <tr>\n",
       "      <th>1</th>\n",
       "      <td>0.02731</td>\n",
       "      <td>0.0</td>\n",
       "      <td>7.07</td>\n",
       "      <td>0.0</td>\n",
       "      <td>0.469</td>\n",
       "      <td>6.421</td>\n",
       "      <td>78.9</td>\n",
       "      <td>4.9671</td>\n",
       "      <td>2.0</td>\n",
       "      <td>242.0</td>\n",
       "      <td>17.8</td>\n",
       "      <td>396.90</td>\n",
       "      <td>9.14</td>\n",
       "    </tr>\n",
       "    <tr>\n",
       "      <th>2</th>\n",
       "      <td>0.02729</td>\n",
       "      <td>0.0</td>\n",
       "      <td>7.07</td>\n",
       "      <td>0.0</td>\n",
       "      <td>0.469</td>\n",
       "      <td>7.185</td>\n",
       "      <td>61.1</td>\n",
       "      <td>4.9671</td>\n",
       "      <td>2.0</td>\n",
       "      <td>242.0</td>\n",
       "      <td>17.8</td>\n",
       "      <td>392.83</td>\n",
       "      <td>4.03</td>\n",
       "    </tr>\n",
       "    <tr>\n",
       "      <th>3</th>\n",
       "      <td>0.03237</td>\n",
       "      <td>0.0</td>\n",
       "      <td>2.18</td>\n",
       "      <td>0.0</td>\n",
       "      <td>0.458</td>\n",
       "      <td>6.998</td>\n",
       "      <td>45.8</td>\n",
       "      <td>6.0622</td>\n",
       "      <td>3.0</td>\n",
       "      <td>222.0</td>\n",
       "      <td>18.7</td>\n",
       "      <td>394.63</td>\n",
       "      <td>2.94</td>\n",
       "    </tr>\n",
       "    <tr>\n",
       "      <th>4</th>\n",
       "      <td>0.06905</td>\n",
       "      <td>0.0</td>\n",
       "      <td>2.18</td>\n",
       "      <td>0.0</td>\n",
       "      <td>0.458</td>\n",
       "      <td>7.147</td>\n",
       "      <td>54.2</td>\n",
       "      <td>6.0622</td>\n",
       "      <td>3.0</td>\n",
       "      <td>222.0</td>\n",
       "      <td>18.7</td>\n",
       "      <td>396.90</td>\n",
       "      <td>5.33</td>\n",
       "    </tr>\n",
       "  </tbody>\n",
       "</table>\n",
       "</div>"
      ],
      "text/plain": [
       "      CRIM    ZN  INDUS  CHAS    NOX     RM   AGE     DIS  RAD    TAX  \\\n",
       "0  0.00632  18.0   2.31   0.0  0.538  6.575  65.2  4.0900  1.0  296.0   \n",
       "1  0.02731   0.0   7.07   0.0  0.469  6.421  78.9  4.9671  2.0  242.0   \n",
       "2  0.02729   0.0   7.07   0.0  0.469  7.185  61.1  4.9671  2.0  242.0   \n",
       "3  0.03237   0.0   2.18   0.0  0.458  6.998  45.8  6.0622  3.0  222.0   \n",
       "4  0.06905   0.0   2.18   0.0  0.458  7.147  54.2  6.0622  3.0  222.0   \n",
       "\n",
       "   PTRATIO       B  LSTAT  \n",
       "0     15.3  396.90   4.98  \n",
       "1     17.8  396.90   9.14  \n",
       "2     17.8  392.83   4.03  \n",
       "3     18.7  394.63   2.94  \n",
       "4     18.7  396.90   5.33  "
      ]
     },
     "execution_count": 56,
     "metadata": {},
     "output_type": "execute_result"
    }
   ],
   "source": [
    "import matplotlib.pyplot as plt\n",
    "import numpy as np \n",
    "import pandas as pd\n",
    "import matplotlib\n",
    "matplotlib.rcParams.update({'font.size': 12})\n",
    "from sklearn.datasets import load_boston\n",
    "from sklearn.model_selection import train_test_split\n",
    "from sklearn.linear_model import LinearRegression\n",
    "from sklearn.linear_model import Ridge\n",
    "from sklearn import metrics\n",
    "from sklearn.metrics import mean_squared_error\n",
    "\n",
    "boston=load_boston()\n",
    "boston_df=pd.DataFrame(boston.data,columns=boston.feature_names)\n",
    "\n",
    "boston_df.head()"
   ]
  },
  {
   "cell_type": "code",
   "execution_count": null,
   "metadata": {
    "id": "kAFzeugPP5eJ"
   },
   "outputs": [],
   "source": []
  },
  {
   "cell_type": "markdown",
   "metadata": {
    "id": "W7fJX1LuP5eK"
   },
   "source": [
    "### Add Noise to original dataset"
   ]
  },
  {
   "cell_type": "code",
   "execution_count": 57,
   "metadata": {},
   "outputs": [],
   "source": [
    "n_houses = boston_df.shape[0]"
   ]
  },
  {
   "cell_type": "code",
   "execution_count": 58,
   "metadata": {},
   "outputs": [
    {
     "data": {
      "text/plain": [
       "506"
      ]
     },
     "execution_count": 58,
     "metadata": {},
     "output_type": "execute_result"
    }
   ],
   "source": [
    "n_houses"
   ]
  },
  {
   "cell_type": "code",
   "execution_count": 59,
   "metadata": {},
   "outputs": [
    {
     "data": {
      "text/plain": [
       "array([[0.11388061, 0.96155778, 0.79910483, 0.69745338, 0.55801029],\n",
       "       [0.38418037, 0.20608207, 0.06930129, 0.32874919, 0.99653262],\n",
       "       [0.49791841, 0.36342237, 0.1817956 , 0.92838596, 0.41289475],\n",
       "       ...,\n",
       "       [0.40118045, 0.5900178 , 0.69373729, 0.8010051 , 0.57215729],\n",
       "       [0.38219799, 0.16330629, 0.52436462, 0.94450465, 0.16675435],\n",
       "       [0.29558558, 0.03612125, 0.58445468, 0.62131067, 0.01198064]])"
      ]
     },
     "execution_count": 59,
     "metadata": {},
     "output_type": "execute_result"
    }
   ],
   "source": [
    "rand_noise = np.random.rand(n_houses, 5)\n",
    "rand_noise"
   ]
  },
  {
   "cell_type": "code",
   "execution_count": 60,
   "metadata": {
    "id": "kOCkhsAZP5eK"
   },
   "outputs": [],
   "source": [
    "\n",
    "rand_noise_df = pd.DataFrame(data=rand_noise, columns=['Noise_1', 'Noise_2', 'Noise_3', 'Noise_4', 'Noise_5'])\n",
    "X = pd.concat([boston_df, rand_noise_df], axis=1)\n",
    "y = boston['target']\n"
   ]
  },
  {
   "cell_type": "code",
   "execution_count": 62,
   "metadata": {
    "id": "cG1PjrYhP5eK",
    "outputId": "be058aa6-40fa-4ad0-ebb1-5eeb2dd9b7f7"
   },
   "outputs": [
    {
     "data": {
      "text/html": [
       "<div>\n",
       "<style scoped>\n",
       "    .dataframe tbody tr th:only-of-type {\n",
       "        vertical-align: middle;\n",
       "    }\n",
       "\n",
       "    .dataframe tbody tr th {\n",
       "        vertical-align: top;\n",
       "    }\n",
       "\n",
       "    .dataframe thead th {\n",
       "        text-align: right;\n",
       "    }\n",
       "</style>\n",
       "<table border=\"1\" class=\"dataframe\">\n",
       "  <thead>\n",
       "    <tr style=\"text-align: right;\">\n",
       "      <th></th>\n",
       "      <th>CRIM</th>\n",
       "      <th>ZN</th>\n",
       "      <th>INDUS</th>\n",
       "      <th>CHAS</th>\n",
       "      <th>NOX</th>\n",
       "      <th>RM</th>\n",
       "      <th>AGE</th>\n",
       "      <th>DIS</th>\n",
       "      <th>RAD</th>\n",
       "      <th>TAX</th>\n",
       "      <th>PTRATIO</th>\n",
       "      <th>B</th>\n",
       "      <th>LSTAT</th>\n",
       "      <th>Noise_1</th>\n",
       "      <th>Noise_2</th>\n",
       "      <th>Noise_3</th>\n",
       "      <th>Noise_4</th>\n",
       "      <th>Noise_5</th>\n",
       "    </tr>\n",
       "  </thead>\n",
       "  <tbody>\n",
       "    <tr>\n",
       "      <th>0</th>\n",
       "      <td>0.00632</td>\n",
       "      <td>18.0</td>\n",
       "      <td>2.31</td>\n",
       "      <td>0.0</td>\n",
       "      <td>0.538</td>\n",
       "      <td>6.575</td>\n",
       "      <td>65.2</td>\n",
       "      <td>4.0900</td>\n",
       "      <td>1.0</td>\n",
       "      <td>296.0</td>\n",
       "      <td>15.3</td>\n",
       "      <td>396.90</td>\n",
       "      <td>4.98</td>\n",
       "      <td>0.113881</td>\n",
       "      <td>0.961558</td>\n",
       "      <td>0.799105</td>\n",
       "      <td>0.697453</td>\n",
       "      <td>0.558010</td>\n",
       "    </tr>\n",
       "    <tr>\n",
       "      <th>1</th>\n",
       "      <td>0.02731</td>\n",
       "      <td>0.0</td>\n",
       "      <td>7.07</td>\n",
       "      <td>0.0</td>\n",
       "      <td>0.469</td>\n",
       "      <td>6.421</td>\n",
       "      <td>78.9</td>\n",
       "      <td>4.9671</td>\n",
       "      <td>2.0</td>\n",
       "      <td>242.0</td>\n",
       "      <td>17.8</td>\n",
       "      <td>396.90</td>\n",
       "      <td>9.14</td>\n",
       "      <td>0.384180</td>\n",
       "      <td>0.206082</td>\n",
       "      <td>0.069301</td>\n",
       "      <td>0.328749</td>\n",
       "      <td>0.996533</td>\n",
       "    </tr>\n",
       "    <tr>\n",
       "      <th>2</th>\n",
       "      <td>0.02729</td>\n",
       "      <td>0.0</td>\n",
       "      <td>7.07</td>\n",
       "      <td>0.0</td>\n",
       "      <td>0.469</td>\n",
       "      <td>7.185</td>\n",
       "      <td>61.1</td>\n",
       "      <td>4.9671</td>\n",
       "      <td>2.0</td>\n",
       "      <td>242.0</td>\n",
       "      <td>17.8</td>\n",
       "      <td>392.83</td>\n",
       "      <td>4.03</td>\n",
       "      <td>0.497918</td>\n",
       "      <td>0.363422</td>\n",
       "      <td>0.181796</td>\n",
       "      <td>0.928386</td>\n",
       "      <td>0.412895</td>\n",
       "    </tr>\n",
       "    <tr>\n",
       "      <th>3</th>\n",
       "      <td>0.03237</td>\n",
       "      <td>0.0</td>\n",
       "      <td>2.18</td>\n",
       "      <td>0.0</td>\n",
       "      <td>0.458</td>\n",
       "      <td>6.998</td>\n",
       "      <td>45.8</td>\n",
       "      <td>6.0622</td>\n",
       "      <td>3.0</td>\n",
       "      <td>222.0</td>\n",
       "      <td>18.7</td>\n",
       "      <td>394.63</td>\n",
       "      <td>2.94</td>\n",
       "      <td>0.163251</td>\n",
       "      <td>0.991428</td>\n",
       "      <td>0.737896</td>\n",
       "      <td>0.603272</td>\n",
       "      <td>0.581861</td>\n",
       "    </tr>\n",
       "    <tr>\n",
       "      <th>4</th>\n",
       "      <td>0.06905</td>\n",
       "      <td>0.0</td>\n",
       "      <td>2.18</td>\n",
       "      <td>0.0</td>\n",
       "      <td>0.458</td>\n",
       "      <td>7.147</td>\n",
       "      <td>54.2</td>\n",
       "      <td>6.0622</td>\n",
       "      <td>3.0</td>\n",
       "      <td>222.0</td>\n",
       "      <td>18.7</td>\n",
       "      <td>396.90</td>\n",
       "      <td>5.33</td>\n",
       "      <td>0.967052</td>\n",
       "      <td>0.183942</td>\n",
       "      <td>0.574097</td>\n",
       "      <td>0.590863</td>\n",
       "      <td>0.669119</td>\n",
       "    </tr>\n",
       "  </tbody>\n",
       "</table>\n",
       "</div>"
      ],
      "text/plain": [
       "      CRIM    ZN  INDUS  CHAS    NOX     RM   AGE     DIS  RAD    TAX  \\\n",
       "0  0.00632  18.0   2.31   0.0  0.538  6.575  65.2  4.0900  1.0  296.0   \n",
       "1  0.02731   0.0   7.07   0.0  0.469  6.421  78.9  4.9671  2.0  242.0   \n",
       "2  0.02729   0.0   7.07   0.0  0.469  7.185  61.1  4.9671  2.0  242.0   \n",
       "3  0.03237   0.0   2.18   0.0  0.458  6.998  45.8  6.0622  3.0  222.0   \n",
       "4  0.06905   0.0   2.18   0.0  0.458  7.147  54.2  6.0622  3.0  222.0   \n",
       "\n",
       "   PTRATIO       B  LSTAT   Noise_1   Noise_2   Noise_3   Noise_4   Noise_5  \n",
       "0     15.3  396.90   4.98  0.113881  0.961558  0.799105  0.697453  0.558010  \n",
       "1     17.8  396.90   9.14  0.384180  0.206082  0.069301  0.328749  0.996533  \n",
       "2     17.8  392.83   4.03  0.497918  0.363422  0.181796  0.928386  0.412895  \n",
       "3     18.7  394.63   2.94  0.163251  0.991428  0.737896  0.603272  0.581861  \n",
       "4     18.7  396.90   5.33  0.967052  0.183942  0.574097  0.590863  0.669119  "
      ]
     },
     "execution_count": 62,
     "metadata": {},
     "output_type": "execute_result"
    }
   ],
   "source": [
    "X.head()"
   ]
  },
  {
   "cell_type": "code",
   "execution_count": null,
   "metadata": {},
   "outputs": [],
   "source": []
  },
  {
   "cell_type": "code",
   "execution_count": 63,
   "metadata": {
    "id": "wfKjAvf4P5eL",
    "outputId": "bef4eebb-40a2-4081-e5bf-e05e2e62dea7"
   },
   "outputs": [
    {
     "data": {
      "text/plain": [
       "array([24. , 21.6, 34.7, 33.4, 36.2])"
      ]
     },
     "execution_count": 63,
     "metadata": {},
     "output_type": "execute_result"
    }
   ],
   "source": [
    "y[0:5]"
   ]
  },
  {
   "cell_type": "markdown",
   "metadata": {
    "id": "hx6KUx1kP5eL"
   },
   "source": [
    "### Implement classical linear regression, Lasso, Ridge and ElasticNet (use the default parameter of sklearn) and describe how the scores of the features change"
   ]
  },
  {
   "cell_type": "code",
   "execution_count": 66,
   "metadata": {
    "id": "YWVwV1sHP5eM"
   },
   "outputs": [],
   "source": [
    "from sklearn.linear_model import LinearRegression, Lasso, Ridge, ElasticNet\n",
    "\n",
    "# CREATE MODEL INSTANCES\n",
    "\n",
    "boston_lr = LinearRegression()\n",
    "boston_ls = Lasso()\n",
    "boston_rg = Ridge()\n",
    "boston_en = ElasticNet()\n",
    "models = [(boston_lr, 'Linear Regression'),\n",
    "           (boston_ls, 'Lasso'),\n",
    "           (boston_rg, \"Ridge Regression\"),\n",
    "           (boston_en, \"Elastic Net\")]"
   ]
  },
  {
   "cell_type": "markdown",
   "metadata": {
    "id": "Vp3_wR5CP5eM"
   },
   "source": [
    "##### NORMALIZE DATA USING THE ```StandardScaler``` PROVIDED BY sklearn"
   ]
  },
  {
   "cell_type": "code",
   "execution_count": 67,
   "metadata": {
    "id": "Ftfk1EaAP5eM"
   },
   "outputs": [],
   "source": [
    "from sklearn.preprocessing import StandardScaler\n",
    "\n",
    "boston_ss = StandardScaler()\n",
    "X_scaled = boston_ss.fit_transform(X=X)\n",
    "\n",
    "X_train, X_test, y_train, y_test = train_test_split(X_scaled, y, test_size=0.25, random_state=235)"
   ]
  },
  {
   "cell_type": "raw",
   "metadata": {},
   "source": [
    "#fit Linear Regression\n",
    "\n",
    "boston_lr.fit(X_train, y_train)"
   ]
  },
  {
   "cell_type": "code",
   "execution_count": null,
   "metadata": {},
   "outputs": [],
   "source": []
  },
  {
   "cell_type": "code",
   "execution_count": 68,
   "metadata": {
    "id": "TT98zyGHP5eN",
    "outputId": "dfe9f246-cac7-44a2-da87-910377adfdee"
   },
   "outputs": [
    {
     "data": {
      "image/png": "[encoded data removed]",
      "text/plain": [
       "<Figure size 432x288 with 1 Axes>"
      ]
     },
     "metadata": {
      "needs_background": "light"
     },
     "output_type": "display_data"
    },
    {
     "data": {
      "image/png": "[encoded data removed]",
      "text/plain": [
       "<Figure size 432x288 with 1 Axes>"
      ]
     },
     "metadata": {
      "needs_background": "light"
     },
     "output_type": "display_data"
    },
    {
     "data": {
      "image/png": "[encoded data removed]",
      "text/plain": [
       "<Figure size 432x288 with 1 Axes>"
      ]
     },
     "metadata": {
      "needs_background": "light"
     },
     "output_type": "display_data"
    },
    {
     "data": {
      "image/png": "[encoded data removed]",
      "text/plain": [
       "<Figure size 432x288 with 1 Axes>"
      ]
     },
     "metadata": {
      "needs_background": "light"
     },
     "output_type": "display_data"
    },
    {
     "data": {
      "text/html": [
       "<div>\n",
       "<style scoped>\n",
       "    .dataframe tbody tr th:only-of-type {\n",
       "        vertical-align: middle;\n",
       "    }\n",
       "\n",
       "    .dataframe tbody tr th {\n",
       "        vertical-align: top;\n",
       "    }\n",
       "\n",
       "    .dataframe thead th {\n",
       "        text-align: right;\n",
       "    }\n",
       "</style>\n",
       "<table border=\"1\" class=\"dataframe\">\n",
       "  <thead>\n",
       "    <tr style=\"text-align: right;\">\n",
       "      <th></th>\n",
       "      <th>Feature Name</th>\n",
       "      <th>Linear Regression</th>\n",
       "      <th>Lasso</th>\n",
       "      <th>Ridge Regression</th>\n",
       "      <th>Elastic Net</th>\n",
       "    </tr>\n",
       "  </thead>\n",
       "  <tbody>\n",
       "    <tr>\n",
       "      <th>0</th>\n",
       "      <td>CRIM</td>\n",
       "      <td>-0.113849</td>\n",
       "      <td>-0.000000</td>\n",
       "      <td>-0.107738</td>\n",
       "      <td>-0.000000</td>\n",
       "    </tr>\n",
       "    <tr>\n",
       "      <th>1</th>\n",
       "      <td>ZN</td>\n",
       "      <td>0.765166</td>\n",
       "      <td>0.000000</td>\n",
       "      <td>0.749703</td>\n",
       "      <td>0.000000</td>\n",
       "    </tr>\n",
       "    <tr>\n",
       "      <th>2</th>\n",
       "      <td>INDUS</td>\n",
       "      <td>0.218358</td>\n",
       "      <td>-0.000000</td>\n",
       "      <td>0.193831</td>\n",
       "      <td>-0.112192</td>\n",
       "    </tr>\n",
       "    <tr>\n",
       "      <th>3</th>\n",
       "      <td>CHAS</td>\n",
       "      <td>1.069481</td>\n",
       "      <td>0.340719</td>\n",
       "      <td>1.072619</td>\n",
       "      <td>0.635905</td>\n",
       "    </tr>\n",
       "    <tr>\n",
       "      <th>4</th>\n",
       "      <td>NOX</td>\n",
       "      <td>-2.046054</td>\n",
       "      <td>-0.000000</td>\n",
       "      <td>-2.008071</td>\n",
       "      <td>-0.202282</td>\n",
       "    </tr>\n",
       "    <tr>\n",
       "      <th>5</th>\n",
       "      <td>RM</td>\n",
       "      <td>3.038938</td>\n",
       "      <td>3.075163</td>\n",
       "      <td>3.050160</td>\n",
       "      <td>2.618869</td>\n",
       "    </tr>\n",
       "    <tr>\n",
       "      <th>6</th>\n",
       "      <td>AGE</td>\n",
       "      <td>0.295788</td>\n",
       "      <td>-0.000000</td>\n",
       "      <td>0.282190</td>\n",
       "      <td>-0.000000</td>\n",
       "    </tr>\n",
       "    <tr>\n",
       "      <th>7</th>\n",
       "      <td>DIS</td>\n",
       "      <td>-2.768203</td>\n",
       "      <td>-0.000000</td>\n",
       "      <td>-2.738922</td>\n",
       "      <td>-0.014043</td>\n",
       "    </tr>\n",
       "    <tr>\n",
       "      <th>8</th>\n",
       "      <td>RAD</td>\n",
       "      <td>2.225217</td>\n",
       "      <td>-0.000000</td>\n",
       "      <td>2.149085</td>\n",
       "      <td>-0.000000</td>\n",
       "    </tr>\n",
       "    <tr>\n",
       "      <th>9</th>\n",
       "      <td>TAX</td>\n",
       "      <td>-1.584751</td>\n",
       "      <td>-0.000000</td>\n",
       "      <td>-1.518205</td>\n",
       "      <td>-0.224970</td>\n",
       "    </tr>\n",
       "    <tr>\n",
       "      <th>10</th>\n",
       "      <td>PTRATIO</td>\n",
       "      <td>-2.253062</td>\n",
       "      <td>-1.231897</td>\n",
       "      <td>-2.241049</td>\n",
       "      <td>-1.333656</td>\n",
       "    </tr>\n",
       "    <tr>\n",
       "      <th>11</th>\n",
       "      <td>B</td>\n",
       "      <td>1.042377</td>\n",
       "      <td>0.172007</td>\n",
       "      <td>1.042543</td>\n",
       "      <td>0.590854</td>\n",
       "    </tr>\n",
       "    <tr>\n",
       "      <th>12</th>\n",
       "      <td>LSTAT</td>\n",
       "      <td>-4.008068</td>\n",
       "      <td>-3.480674</td>\n",
       "      <td>-3.988458</td>\n",
       "      <td>-2.496310</td>\n",
       "    </tr>\n",
       "    <tr>\n",
       "      <th>13</th>\n",
       "      <td>Noise_1</td>\n",
       "      <td>0.376599</td>\n",
       "      <td>0.000000</td>\n",
       "      <td>0.376120</td>\n",
       "      <td>0.000000</td>\n",
       "    </tr>\n",
       "    <tr>\n",
       "      <th>14</th>\n",
       "      <td>Noise_2</td>\n",
       "      <td>0.050131</td>\n",
       "      <td>0.000000</td>\n",
       "      <td>0.048298</td>\n",
       "      <td>-0.000000</td>\n",
       "    </tr>\n",
       "    <tr>\n",
       "      <th>15</th>\n",
       "      <td>Noise_3</td>\n",
       "      <td>0.394511</td>\n",
       "      <td>0.000000</td>\n",
       "      <td>0.393319</td>\n",
       "      <td>0.000000</td>\n",
       "    </tr>\n",
       "    <tr>\n",
       "      <th>16</th>\n",
       "      <td>Noise_4</td>\n",
       "      <td>-0.153965</td>\n",
       "      <td>-0.000000</td>\n",
       "      <td>-0.153936</td>\n",
       "      <td>-0.000000</td>\n",
       "    </tr>\n",
       "    <tr>\n",
       "      <th>17</th>\n",
       "      <td>Noise_5</td>\n",
       "      <td>-0.057131</td>\n",
       "      <td>-0.000000</td>\n",
       "      <td>-0.056465</td>\n",
       "      <td>-0.000000</td>\n",
       "    </tr>\n",
       "  </tbody>\n",
       "</table>\n",
       "</div>"
      ],
      "text/plain": [
       "   Feature Name  Linear Regression     Lasso  Ridge Regression  Elastic Net\n",
       "0          CRIM          -0.113849 -0.000000         -0.107738    -0.000000\n",
       "1            ZN           0.765166  0.000000          0.749703     0.000000\n",
       "2         INDUS           0.218358 -0.000000          0.193831    -0.112192\n",
       "3          CHAS           1.069481  0.340719          1.072619     0.635905\n",
       "4           NOX          -2.046054 -0.000000         -2.008071    -0.202282\n",
       "5            RM           3.038938  3.075163          3.050160     2.618869\n",
       "6           AGE           0.295788 -0.000000          0.282190    -0.000000\n",
       "7           DIS          -2.768203 -0.000000         -2.738922    -0.014043\n",
       "8           RAD           2.225217 -0.000000          2.149085    -0.000000\n",
       "9           TAX          -1.584751 -0.000000         -1.518205    -0.224970\n",
       "10      PTRATIO          -2.253062 -1.231897         -2.241049    -1.333656\n",
       "11            B           1.042377  0.172007          1.042543     0.590854\n",
       "12        LSTAT          -4.008068 -3.480674         -3.988458    -2.496310\n",
       "13      Noise_1           0.376599  0.000000          0.376120     0.000000\n",
       "14      Noise_2           0.050131  0.000000          0.048298    -0.000000\n",
       "15      Noise_3           0.394511  0.000000          0.393319     0.000000\n",
       "16      Noise_4          -0.153965 -0.000000         -0.153936    -0.000000\n",
       "17      Noise_5          -0.057131 -0.000000         -0.056465    -0.000000"
      ]
     },
     "execution_count": 68,
     "metadata": {},
     "output_type": "execute_result"
    }
   ],
   "source": [
    "## FITTING OF THE MODELS AND RESULTS\n",
    "\n",
    "\n",
    "models_df = pd.DataFrame()\n",
    "models_df['Feature Name'] = X.columns\n",
    "for model in models:\n",
    "    model[0].fit(X_train, y_train)\n",
    "    pd.Series(model[0].coef_,index=X.columns).plot(kind='barh')\n",
    "    plt.title(model[1])\n",
    "    plt.xlabel('Coefficient Value')\n",
    "    plt.ylabel('Feature Name')\n",
    "    plt.show()    \n",
    "    column_name = model[1]\n",
    "    models_df[column_name] = model[0].coef_\n",
    "\n",
    "models_df"
   ]
  },
  {
   "cell_type": "markdown",
   "metadata": {
    "id": "vCaYnamIP5eN"
   },
   "source": [
    "#### Decribe the results"
   ]
  },
  {
   "cell_type": "markdown",
   "metadata": {
    "id": "BJRGjHfBP5eN"
   },
   "source": [
    "- We can see that linear regression assigned non-zero values to all 5 of our noise features, despite none of them having any predictive power. Interestingly, these noise features have coefficients with magnitudes similar to some of the real features in the dataset.\n",
    "- As we hoped, Lasso did a good job of reducing all 5 of our noise features to 0, as well as many of the real features from the dataset. This is indeed a much simpler model than given by linear regression\n",
    "- Ridge Regression makes a similar mistake that unregularized linear regression, assigning coefficient values to our noise features. We also see some features have very small coefficients.\n",
    "- Much like Lasso, Elastic Net makes the coefficients of several features 0. It however does not make as many coefficients 0 as Lasso does."
   ]
  },
  {
   "cell_type": "markdown",
   "metadata": {
    "id": "68pMwN4BP5eO"
   },
   "source": [
    "### Compute the Model Scores"
   ]
  },
  {
   "cell_type": "code",
   "execution_count": 70,
   "metadata": {
    "id": "1b310Fv7P5eO",
    "outputId": "95720c5f-4b94-4203-bc74-a0dfaeedb56f"
   },
   "outputs": [
    {
     "name": "stdout",
     "output_type": "stream",
     "text": [
      "Mean Squared Error of Linear Regression: 24.16\n",
      "Mean Squared Error of Lasso: 24.91\n",
      "Mean Squared Error of Ridge Regression: 24.16\n",
      "Mean Squared Error of Elastic Net: 24.63\n"
     ]
    }
   ],
   "source": [
    "\n",
    "for model in models:    \n",
    "    mse = mean_squared_error(y_test, model[0].predict(X_test))\n",
    "    print(f\"Mean Squared Error of {model[1]}: {mse:.2f}\")"
   ]
  },
  {
   "cell_type": "markdown",
   "metadata": {
    "id": "komlDuMgP5eO"
   },
   "source": [
    "This might seem counter-intuitive, but it is important to remember the ridge regression model traded some variance for bias, which ultimately lead to an overall smaller error. The Lasso and Elastic Net models traded a significant amount of variance for bias, and we see that our error has increased.\n",
    "Interestingly, Lasso and Elastic Net had a higher MSE than Linear Regression. But does that mean that these models are unequivocally worse? I would argue not, as the Lasso and Elastic Net models also performed feature selection, which gives us better interpretability of the models. Coefficients are interpreted as the change in dependent variable with a one unit increase in predictor value, with all other predictors held constant. In the case of complex models, the assumption of holding all other predictors constant cannot reasonably be met."
   ]
  },
  {
   "cell_type": "markdown",
   "metadata": {
    "id": "uGEyFZxRP5eP"
   },
   "source": [
    "### Alpha parameter:  Apply Lasso with different values of alpha and describe how the parameters scores change\n",
    "\n",
    "\n",
    "- Complete the function and apply it to the following values: [0, .0001, .5, 10]\n",
    "- Describe the results"
   ]
  },
  {
   "cell_type": "code",
   "execution_count": 71,
   "metadata": {},
   "outputs": [
    {
     "data": {
      "text/plain": [
       "Index(['CRIM', 'ZN', 'INDUS', 'CHAS', 'NOX', 'RM', 'AGE', 'DIS', 'RAD', 'TAX',\n",
       "       'PTRATIO', 'B', 'LSTAT', 'Noise_1', 'Noise_2', 'Noise_3', 'Noise_4',\n",
       "       'Noise_5'],\n",
       "      dtype='object')"
      ]
     },
     "execution_count": 71,
     "metadata": {},
     "output_type": "execute_result"
    }
   ],
   "source": [
    " X.columns"
   ]
  },
  {
   "cell_type": "code",
   "execution_count": 72,
   "metadata": {},
   "outputs": [],
   "source": [
    "names = X.columns\n",
    "\n",
    "# Create a function called lasso,\n",
    "def lasso(alphas):\n",
    "    '''\n",
    "    Takes in a list of alphas. Outputs a dataframe containing the coefficients of lasso regressions from each alpha.\n",
    "    '''\n",
    "    # Create an empty data frame\n",
    "    df = pd.DataFrame()\n",
    "    \n",
    "    # Create a column of feature names\n",
    "    df['Feature Name'] = names\n",
    "    \n",
    "    # For each alpha value in the list of alpha values,\n",
    "    for alpha in alphas:\n",
    "        # Create a lasso regression with that alpha value,\n",
    "\n",
    "       \n",
    "        lasso = Lasso(alpha=alpha)\n",
    "        \n",
    "        # Fit the lasso regression\n",
    "        lasso.fit(X_scaled, y)\n",
    "        \n",
    "        # Create a column name for that alpha value\n",
    "        column_name = 'Alpha = %f' % alpha\n",
    "\n",
    "        # Create a column of coefficient values\n",
    "        df[column_name] = lasso.coef_\n",
    "        \n",
    "    # Return the dataframe  \n",
    "    return df"
   ]
  },
  {
   "cell_type": "code",
   "execution_count": 48,
   "metadata": {},
   "outputs": [
    {
     "name": "stderr",
     "output_type": "stream",
     "text": [
      "<ipython-input-47-a8198f808319>:22: UserWarning: With alpha=0, this algorithm does not converge well. You are advised to use the LinearRegression estimator\n",
      "  lasso.fit(X_scaled, y)\n",
      "/Users/rimahinnawi/opt/anaconda3/envs/MLProject/lib/python3.8/site-packages/sklearn/linear_model/_coordinate_descent.py:530: UserWarning: Coordinate descent with no regularization may lead to unexpected results and is discouraged.\n",
      "  model = cd_fast.enet_coordinate_descent(\n",
      "/Users/rimahinnawi/opt/anaconda3/envs/MLProject/lib/python3.8/site-packages/sklearn/linear_model/_coordinate_descent.py:530: ConvergenceWarning: Objective did not converge. You might want to increase the number of iterations. Duality gap: 5527.569381445952, tolerance: 4.2716295415019765\n",
      "  model = cd_fast.enet_coordinate_descent(\n"
     ]
    },
    {
     "data": {
      "text/html": [
       "<div>\n",
       "<style scoped>\n",
       "    .dataframe tbody tr th:only-of-type {\n",
       "        vertical-align: middle;\n",
       "    }\n",
       "\n",
       "    .dataframe tbody tr th {\n",
       "        vertical-align: top;\n",
       "    }\n",
       "\n",
       "    .dataframe thead th {\n",
       "        text-align: right;\n",
       "    }\n",
       "</style>\n",
       "<table border=\"1\" class=\"dataframe\">\n",
       "  <thead>\n",
       "    <tr style=\"text-align: right;\">\n",
       "      <th></th>\n",
       "      <th>Feature Name</th>\n",
       "      <th>Alpha = 0.000000</th>\n",
       "      <th>Alpha = 0.000100</th>\n",
       "      <th>Alpha = 0.500000</th>\n",
       "      <th>Alpha = 10.000000</th>\n",
       "    </tr>\n",
       "  </thead>\n",
       "  <tbody>\n",
       "    <tr>\n",
       "      <th>0</th>\n",
       "      <td>CRIM</td>\n",
       "      <td>-0.918042</td>\n",
       "      <td>-0.917779</td>\n",
       "      <td>-0.115265</td>\n",
       "      <td>-0.0</td>\n",
       "    </tr>\n",
       "    <tr>\n",
       "      <th>1</th>\n",
       "      <td>ZN</td>\n",
       "      <td>1.070233</td>\n",
       "      <td>1.069756</td>\n",
       "      <td>0.000000</td>\n",
       "      <td>0.0</td>\n",
       "    </tr>\n",
       "    <tr>\n",
       "      <th>2</th>\n",
       "      <td>INDUS</td>\n",
       "      <td>0.169503</td>\n",
       "      <td>0.168508</td>\n",
       "      <td>-0.000000</td>\n",
       "      <td>-0.0</td>\n",
       "    </tr>\n",
       "    <tr>\n",
       "      <th>3</th>\n",
       "      <td>CHAS</td>\n",
       "      <td>0.678855</td>\n",
       "      <td>0.678874</td>\n",
       "      <td>0.397079</td>\n",
       "      <td>0.0</td>\n",
       "    </tr>\n",
       "    <tr>\n",
       "      <th>4</th>\n",
       "      <td>NOX</td>\n",
       "      <td>-2.070926</td>\n",
       "      <td>-2.070058</td>\n",
       "      <td>-0.000000</td>\n",
       "      <td>-0.0</td>\n",
       "    </tr>\n",
       "    <tr>\n",
       "      <th>5</th>\n",
       "      <td>RM</td>\n",
       "      <td>2.670812</td>\n",
       "      <td>2.670978</td>\n",
       "      <td>2.974259</td>\n",
       "      <td>0.0</td>\n",
       "    </tr>\n",
       "    <tr>\n",
       "      <th>6</th>\n",
       "      <td>AGE</td>\n",
       "      <td>0.024962</td>\n",
       "      <td>0.024519</td>\n",
       "      <td>-0.000000</td>\n",
       "      <td>-0.0</td>\n",
       "    </tr>\n",
       "    <tr>\n",
       "      <th>7</th>\n",
       "      <td>DIS</td>\n",
       "      <td>-3.096356</td>\n",
       "      <td>-3.095987</td>\n",
       "      <td>-0.170569</td>\n",
       "      <td>0.0</td>\n",
       "    </tr>\n",
       "    <tr>\n",
       "      <th>8</th>\n",
       "      <td>RAD</td>\n",
       "      <td>2.651540</td>\n",
       "      <td>2.649708</td>\n",
       "      <td>-0.000000</td>\n",
       "      <td>-0.0</td>\n",
       "    </tr>\n",
       "    <tr>\n",
       "      <th>9</th>\n",
       "      <td>TAX</td>\n",
       "      <td>-2.063208</td>\n",
       "      <td>-2.061412</td>\n",
       "      <td>-0.000000</td>\n",
       "      <td>-0.0</td>\n",
       "    </tr>\n",
       "    <tr>\n",
       "      <th>10</th>\n",
       "      <td>PTRATIO</td>\n",
       "      <td>-2.066773</td>\n",
       "      <td>-2.066535</td>\n",
       "      <td>-1.598449</td>\n",
       "      <td>-0.0</td>\n",
       "    </tr>\n",
       "    <tr>\n",
       "      <th>11</th>\n",
       "      <td>B</td>\n",
       "      <td>0.853030</td>\n",
       "      <td>0.852931</td>\n",
       "      <td>0.543139</td>\n",
       "      <td>0.0</td>\n",
       "    </tr>\n",
       "    <tr>\n",
       "      <th>12</th>\n",
       "      <td>LSTAT</td>\n",
       "      <td>-3.764852</td>\n",
       "      <td>-3.764637</td>\n",
       "      <td>-3.666144</td>\n",
       "      <td>-0.0</td>\n",
       "    </tr>\n",
       "    <tr>\n",
       "      <th>13</th>\n",
       "      <td>Noise_1</td>\n",
       "      <td>0.146981</td>\n",
       "      <td>0.146841</td>\n",
       "      <td>0.000000</td>\n",
       "      <td>-0.0</td>\n",
       "    </tr>\n",
       "    <tr>\n",
       "      <th>14</th>\n",
       "      <td>Noise_2</td>\n",
       "      <td>0.041069</td>\n",
       "      <td>0.040910</td>\n",
       "      <td>-0.000000</td>\n",
       "      <td>0.0</td>\n",
       "    </tr>\n",
       "    <tr>\n",
       "      <th>15</th>\n",
       "      <td>Noise_3</td>\n",
       "      <td>-0.125777</td>\n",
       "      <td>-0.125729</td>\n",
       "      <td>-0.000000</td>\n",
       "      <td>-0.0</td>\n",
       "    </tr>\n",
       "    <tr>\n",
       "      <th>16</th>\n",
       "      <td>Noise_4</td>\n",
       "      <td>0.058197</td>\n",
       "      <td>0.058129</td>\n",
       "      <td>0.000000</td>\n",
       "      <td>-0.0</td>\n",
       "    </tr>\n",
       "    <tr>\n",
       "      <th>17</th>\n",
       "      <td>Noise_5</td>\n",
       "      <td>-0.039154</td>\n",
       "      <td>-0.039095</td>\n",
       "      <td>-0.000000</td>\n",
       "      <td>-0.0</td>\n",
       "    </tr>\n",
       "  </tbody>\n",
       "</table>\n",
       "</div>"
      ],
      "text/plain": [
       "   Feature Name  Alpha = 0.000000  Alpha = 0.000100  Alpha = 0.500000  \\\n",
       "0          CRIM         -0.918042         -0.917779         -0.115265   \n",
       "1            ZN          1.070233          1.069756          0.000000   \n",
       "2         INDUS          0.169503          0.168508         -0.000000   \n",
       "3          CHAS          0.678855          0.678874          0.397079   \n",
       "4           NOX         -2.070926         -2.070058         -0.000000   \n",
       "5            RM          2.670812          2.670978          2.974259   \n",
       "6           AGE          0.024962          0.024519         -0.000000   \n",
       "7           DIS         -3.096356         -3.095987         -0.170569   \n",
       "8           RAD          2.651540          2.649708         -0.000000   \n",
       "9           TAX         -2.063208         -2.061412         -0.000000   \n",
       "10      PTRATIO         -2.066773         -2.066535         -1.598449   \n",
       "11            B          0.853030          0.852931          0.543139   \n",
       "12        LSTAT         -3.764852         -3.764637         -3.666144   \n",
       "13      Noise_1          0.146981          0.146841          0.000000   \n",
       "14      Noise_2          0.041069          0.040910         -0.000000   \n",
       "15      Noise_3         -0.125777         -0.125729         -0.000000   \n",
       "16      Noise_4          0.058197          0.058129          0.000000   \n",
       "17      Noise_5         -0.039154         -0.039095         -0.000000   \n",
       "\n",
       "    Alpha = 10.000000  \n",
       "0                -0.0  \n",
       "1                 0.0  \n",
       "2                -0.0  \n",
       "3                 0.0  \n",
       "4                -0.0  \n",
       "5                 0.0  \n",
       "6                -0.0  \n",
       "7                 0.0  \n",
       "8                -0.0  \n",
       "9                -0.0  \n",
       "10               -0.0  \n",
       "11                0.0  \n",
       "12               -0.0  \n",
       "13               -0.0  \n",
       "14                0.0  \n",
       "15               -0.0  \n",
       "16               -0.0  \n",
       "17               -0.0  "
      ]
     },
     "execution_count": 48,
     "metadata": {},
     "output_type": "execute_result"
    }
   ],
   "source": [
    "lasso([0, .0001, .5, 10])"
   ]
  },
  {
   "cell_type": "markdown",
   "metadata": {
    "id": "f9mjD2LBP5eQ"
   },
   "source": [
    "#### Describe the above results"
   ]
  },
  {
   "cell_type": "markdown",
   "metadata": {
    "id": "DEEFJ9gAP5eQ"
   },
   "source": [
    "With Lasso:\n",
    "- When alpha is close to 0 , Lasso regression produces the similar coefficients as a linear regression. \n",
    "- When alpha is very large (for example when alpha=10), all coefficients are zero."
   ]
  },
  {
   "cell_type": "markdown",
   "metadata": {
    "id": "D3dtgTMjP5eR"
   },
   "source": [
    "### Apply Ridge with different values of alpha and describe how the parameters scores change\n",
    "- Complete the function and apply it to the following values: [0, .0001, .5, 10]\n",
    "- Describe the results"
   ]
  },
  {
   "cell_type": "code",
   "execution_count": 73,
   "metadata": {},
   "outputs": [],
   "source": [
    "names = names = X.columns\n",
    "\n",
    "# Create a function called lasso,\n",
    "def ridge(alphas):\n",
    "    '''\n",
    "    Takes in a list of alphas. Outputs a dataframe containing the coefficients of ridge regressions from each alpha.\n",
    "    '''\n",
    "    # Create an empty data frame\n",
    "    df = pd.DataFrame()\n",
    "    \n",
    "    # Create a column of feature names\n",
    "    df['Feature Name'] = names\n",
    "    \n",
    "    # For each alpha value in the list of alpha values,\n",
    "    for alpha in alphas:\n",
    "        # Create a Ridge regression with that alpha value,\n",
    "       \n",
    "        ridge = Ridge(alpha=alpha)\n",
    "        \n",
    "        # Fit the lasso regression\n",
    "        ridge.fit(X_scaled, y)\n",
    "        \n",
    "        # Create a column name for that alpha value\n",
    "        column_name = 'Alpha = %f' % alpha\n",
    "\n",
    "        # Create a column of coefficient values\n",
    "        df[column_name] = ridge.coef_\n",
    "        \n",
    "    # Return the dataframe  \n",
    "    return df"
   ]
  },
  {
   "cell_type": "code",
   "execution_count": 44,
   "metadata": {},
   "outputs": [
    {
     "data": {
      "text/html": [
       "<div>\n",
       "<style scoped>\n",
       "    .dataframe tbody tr th:only-of-type {\n",
       "        vertical-align: middle;\n",
       "    }\n",
       "\n",
       "    .dataframe tbody tr th {\n",
       "        vertical-align: top;\n",
       "    }\n",
       "\n",
       "    .dataframe thead th {\n",
       "        text-align: right;\n",
       "    }\n",
       "</style>\n",
       "<table border=\"1\" class=\"dataframe\">\n",
       "  <thead>\n",
       "    <tr style=\"text-align: right;\">\n",
       "      <th></th>\n",
       "      <th>Feature Name</th>\n",
       "      <th>Alpha = 0.000000</th>\n",
       "      <th>Alpha = 0.000010</th>\n",
       "      <th>Alpha = 0.500000</th>\n",
       "      <th>Alpha = 10.000000</th>\n",
       "    </tr>\n",
       "  </thead>\n",
       "  <tbody>\n",
       "    <tr>\n",
       "      <th>0</th>\n",
       "      <td>CRIM</td>\n",
       "      <td>-0.918042</td>\n",
       "      <td>-0.918042</td>\n",
       "      <td>-0.913778</td>\n",
       "      <td>-0.848152</td>\n",
       "    </tr>\n",
       "    <tr>\n",
       "      <th>1</th>\n",
       "      <td>ZN</td>\n",
       "      <td>1.070233</td>\n",
       "      <td>1.070233</td>\n",
       "      <td>1.062719</td>\n",
       "      <td>0.945727</td>\n",
       "    </tr>\n",
       "    <tr>\n",
       "      <th>2</th>\n",
       "      <td>INDUS</td>\n",
       "      <td>0.169503</td>\n",
       "      <td>0.169503</td>\n",
       "      <td>0.157100</td>\n",
       "      <td>-0.019356</td>\n",
       "    </tr>\n",
       "    <tr>\n",
       "      <th>3</th>\n",
       "      <td>CHAS</td>\n",
       "      <td>0.678855</td>\n",
       "      <td>0.678855</td>\n",
       "      <td>0.680574</td>\n",
       "      <td>0.704753</td>\n",
       "    </tr>\n",
       "    <tr>\n",
       "      <th>4</th>\n",
       "      <td>NOX</td>\n",
       "      <td>-2.070926</td>\n",
       "      <td>-2.070925</td>\n",
       "      <td>-2.056579</td>\n",
       "      <td>-1.820958</td>\n",
       "    </tr>\n",
       "    <tr>\n",
       "      <th>5</th>\n",
       "      <td>RM</td>\n",
       "      <td>2.670812</td>\n",
       "      <td>2.670812</td>\n",
       "      <td>2.675119</td>\n",
       "      <td>2.738756</td>\n",
       "    </tr>\n",
       "    <tr>\n",
       "      <th>6</th>\n",
       "      <td>AGE</td>\n",
       "      <td>0.024962</td>\n",
       "      <td>0.024962</td>\n",
       "      <td>0.021876</td>\n",
       "      <td>-0.025482</td>\n",
       "    </tr>\n",
       "    <tr>\n",
       "      <th>7</th>\n",
       "      <td>DIS</td>\n",
       "      <td>-3.096356</td>\n",
       "      <td>-3.096356</td>\n",
       "      <td>-3.082916</td>\n",
       "      <td>-2.848846</td>\n",
       "    </tr>\n",
       "    <tr>\n",
       "      <th>8</th>\n",
       "      <td>RAD</td>\n",
       "      <td>2.651540</td>\n",
       "      <td>2.651540</td>\n",
       "      <td>2.615244</td>\n",
       "      <td>2.082563</td>\n",
       "    </tr>\n",
       "    <tr>\n",
       "      <th>9</th>\n",
       "      <td>TAX</td>\n",
       "      <td>-2.063208</td>\n",
       "      <td>-2.063207</td>\n",
       "      <td>-2.029180</td>\n",
       "      <td>-1.548598</td>\n",
       "    </tr>\n",
       "    <tr>\n",
       "      <th>10</th>\n",
       "      <td>PTRATIO</td>\n",
       "      <td>-2.066773</td>\n",
       "      <td>-2.066772</td>\n",
       "      <td>-2.062390</td>\n",
       "      <td>-1.990108</td>\n",
       "    </tr>\n",
       "    <tr>\n",
       "      <th>11</th>\n",
       "      <td>B</td>\n",
       "      <td>0.853030</td>\n",
       "      <td>0.853030</td>\n",
       "      <td>0.852802</td>\n",
       "      <td>0.848096</td>\n",
       "    </tr>\n",
       "    <tr>\n",
       "      <th>12</th>\n",
       "      <td>LSTAT</td>\n",
       "      <td>-3.764852</td>\n",
       "      <td>-3.764852</td>\n",
       "      <td>-3.758492</td>\n",
       "      <td>-3.646790</td>\n",
       "    </tr>\n",
       "    <tr>\n",
       "      <th>13</th>\n",
       "      <td>Noise_1</td>\n",
       "      <td>0.146981</td>\n",
       "      <td>0.146981</td>\n",
       "      <td>0.145919</td>\n",
       "      <td>0.128669</td>\n",
       "    </tr>\n",
       "    <tr>\n",
       "      <th>14</th>\n",
       "      <td>Noise_2</td>\n",
       "      <td>0.041069</td>\n",
       "      <td>0.041069</td>\n",
       "      <td>0.040424</td>\n",
       "      <td>0.032091</td>\n",
       "    </tr>\n",
       "    <tr>\n",
       "      <th>15</th>\n",
       "      <td>Noise_3</td>\n",
       "      <td>-0.125777</td>\n",
       "      <td>-0.125777</td>\n",
       "      <td>-0.126193</td>\n",
       "      <td>-0.132295</td>\n",
       "    </tr>\n",
       "    <tr>\n",
       "      <th>16</th>\n",
       "      <td>Noise_4</td>\n",
       "      <td>0.058197</td>\n",
       "      <td>0.058197</td>\n",
       "      <td>0.059005</td>\n",
       "      <td>0.068585</td>\n",
       "    </tr>\n",
       "    <tr>\n",
       "      <th>17</th>\n",
       "      <td>Noise_5</td>\n",
       "      <td>-0.039154</td>\n",
       "      <td>-0.039154</td>\n",
       "      <td>-0.040117</td>\n",
       "      <td>-0.054350</td>\n",
       "    </tr>\n",
       "  </tbody>\n",
       "</table>\n",
       "</div>"
      ],
      "text/plain": [
       "   Feature Name  Alpha = 0.000000  Alpha = 0.000010  Alpha = 0.500000  \\\n",
       "0          CRIM         -0.918042         -0.918042         -0.913778   \n",
       "1            ZN          1.070233          1.070233          1.062719   \n",
       "2         INDUS          0.169503          0.169503          0.157100   \n",
       "3          CHAS          0.678855          0.678855          0.680574   \n",
       "4           NOX         -2.070926         -2.070925         -2.056579   \n",
       "5            RM          2.670812          2.670812          2.675119   \n",
       "6           AGE          0.024962          0.024962          0.021876   \n",
       "7           DIS         -3.096356         -3.096356         -3.082916   \n",
       "8           RAD          2.651540          2.651540          2.615244   \n",
       "9           TAX         -2.063208         -2.063207         -2.029180   \n",
       "10      PTRATIO         -2.066773         -2.066772         -2.062390   \n",
       "11            B          0.853030          0.853030          0.852802   \n",
       "12        LSTAT         -3.764852         -3.764852         -3.758492   \n",
       "13      Noise_1          0.146981          0.146981          0.145919   \n",
       "14      Noise_2          0.041069          0.041069          0.040424   \n",
       "15      Noise_3         -0.125777         -0.125777         -0.126193   \n",
       "16      Noise_4          0.058197          0.058197          0.059005   \n",
       "17      Noise_5         -0.039154         -0.039154         -0.040117   \n",
       "\n",
       "    Alpha = 10.000000  \n",
       "0           -0.848152  \n",
       "1            0.945727  \n",
       "2           -0.019356  \n",
       "3            0.704753  \n",
       "4           -1.820958  \n",
       "5            2.738756  \n",
       "6           -0.025482  \n",
       "7           -2.848846  \n",
       "8            2.082563  \n",
       "9           -1.548598  \n",
       "10          -1.990108  \n",
       "11           0.848096  \n",
       "12          -3.646790  \n",
       "13           0.128669  \n",
       "14           0.032091  \n",
       "15          -0.132295  \n",
       "16           0.068585  \n",
       "17          -0.054350  "
      ]
     },
     "execution_count": 44,
     "metadata": {},
     "output_type": "execute_result"
    }
   ],
   "source": [
    "ridge([0, .00001, .5, 10])"
   ]
  },
  {
   "cell_type": "code",
   "execution_count": null,
   "metadata": {
    "id": "3XXSdX92P5eR",
    "outputId": "83a16f20-b338-4bba-c4ec-c4915ddd4117"
   },
   "outputs": [],
   "source": []
  },
  {
   "cell_type": "markdown",
   "metadata": {
    "id": "htviX3D9P5eS"
   },
   "source": [
    "In practice, we will not manually look for the best alpha coefficient. Both in Lasso and ridge regression, the alpha is a hyperparameter. Therefore, we will find the best one via crossvalidation. Fortunately, sklearn has a function that performs CV to find the optimal alpha automatically. "
   ]
  },
  {
   "cell_type": "code",
   "execution_count": 50,
   "metadata": {
    "id": "uRFc3rLAP5eT",
    "outputId": "06a2e667-b1a2-4fce-aef6-b6d190df74d2"
   },
   "outputs": [
    {
     "data": {
      "text/plain": [
       "0.0033304967109759184"
      ]
     },
     "execution_count": 50,
     "metadata": {},
     "output_type": "execute_result"
    }
   ],
   "source": [
    "from sklearn.linear_model import LassoCV\n",
    "\n",
    "reg = LassoCV(max_iter = 5000, cv = 20, normalize=True).fit(X_train, y_train)\n",
    "reg.alpha_"
   ]
  },
  {
   "cell_type": "code",
   "execution_count": null,
   "metadata": {
    "id": "B9iMJpLBP5eT"
   },
   "outputs": [],
   "source": []
  }
 ],
 "metadata": {
  "colab": {
   "name": "Session_3_Regularization_and_Poly_regression_EXERCISE.ipynb",
   "provenance": []
  },
  "kernelspec": {
   "display_name": "Python 3",
   "language": "python",
   "name": "python3"
  },
  "language_info": {
   "codemirror_mode": {
    "name": "ipython",
    "version": 3
   },
   "file_extension": ".py",
   "mimetype": "text/x-python",
   "name": "python",
   "nbconvert_exporter": "python",
   "pygments_lexer": "ipython3",
   "version": "3.8.5"
  }
 },
 "nbformat": 4,
 "nbformat_minor": 1
}
